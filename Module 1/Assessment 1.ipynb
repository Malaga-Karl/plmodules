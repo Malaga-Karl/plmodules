{
 "cells": [
  {
   "cell_type": "code",
   "execution_count": 1,
   "id": "502605e3",
   "metadata": {},
   "outputs": [
    {
     "name": "stdout",
     "output_type": "stream",
     "text": [
      "Karl Benedict K. Malaga\n",
      "Pamantasan ng Lungsod ng Maynila\n",
      "General Luna, Corner, Muralla St. Intramuros, Manila\n",
      "\n",
      "Bachelor of Science in Computer Science\n"
     ]
    }
   ],
   "source": [
    "# 3. Create a simple Python code about the print() function\n",
    "\n",
    "print('Karl Benedict K. Malaga')\n",
    "print('Pamantasan ng Lungsod ng Maynila')\n",
    "print('General Luna, Corner, Muralla St. Intramuros, Manila')\n",
    "print('\\nBachelor of Science in Computer Science')"
   ]
  }
 ],
 "metadata": {
  "kernelspec": {
   "display_name": "Python 3 (ipykernel)",
   "language": "python",
   "name": "python3"
  },
  "language_info": {
   "codemirror_mode": {
    "name": "ipython",
    "version": 3
   },
   "file_extension": ".py",
   "mimetype": "text/x-python",
   "name": "python",
   "nbconvert_exporter": "python",
   "pygments_lexer": "ipython3",
   "version": "3.10.5"
  }
 },
 "nbformat": 4,
 "nbformat_minor": 5
}
