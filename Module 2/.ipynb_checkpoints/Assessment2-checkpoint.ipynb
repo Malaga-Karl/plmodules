{
 "cells": [
  {
   "cell_type": "code",
   "execution_count": 5,
   "id": "895cf640",
   "metadata": {},
   "outputs": [
    {
     "data": {
      "text/plain": [
       "100.25"
      ]
     },
     "execution_count": 5,
     "metadata": {},
     "output_type": "execute_result"
    }
   ],
   "source": [
    "# 1. Write an equation that uses multiplication, division, an exponent, addition, and subtraction that is equal to 100.25.\n",
    "\n",
    "(((7**3 - 143) * 2) + 1) /4"
   ]
  },
  {
   "cell_type": "code",
   "execution_count": 7,
   "id": "f1fd8da3",
   "metadata": {},
   "outputs": [
    {
     "name": "stdout",
     "output_type": "stream",
     "text": [
      "44\n",
      "29\n",
      "34\n"
     ]
    }
   ],
   "source": [
    "# 2.\n",
    "# Answer these 3 questions without typing code (too test your mental capability). Then type code to check your answer.\n",
    "# What is the value of the expression 4 * (6 + 5) === 44 (mental)\n",
    "# What is the value of the expression 4 * 6 + 5 ===== 29 (mental)\n",
    "# What is the value of the expression 4 + 6 * 5 ===== 34 (mental)\n",
    "\n",
    "print(4 * (6 + 5))\n",
    "print(4 * 6 + 5)\n",
    "print(4 + 6 * 5)"
   ]
  },
  {
   "cell_type": "code",
   "execution_count": 8,
   "id": "6dd322f2",
   "metadata": {},
   "outputs": [
    {
     "data": {
      "text/plain": [
       "float"
      ]
     },
     "execution_count": 8,
     "metadata": {},
     "output_type": "execute_result"
    }
   ],
   "source": [
    "# 3. What is the type of the result of the expression 3 + 1.5 + 4? \n",
    "\n",
    "# Number (spcifically float)\n",
    "\n",
    "type(3+1.5+4)"
   ]
  },
  {
   "cell_type": "code",
   "execution_count": 11,
   "id": "d3e0ca47",
   "metadata": {},
   "outputs": [],
   "source": [
    "# 4. What would you use to find a number’s square root, as well as its square?\n",
    "\n",
    "# ** exponent\n"
   ]
  },
  {
   "cell_type": "code",
   "execution_count": 12,
   "id": "04b697b4",
   "metadata": {},
   "outputs": [
    {
     "name": "stdout",
     "output_type": "stream",
     "text": [
      "3.0\n",
      "9\n"
     ]
    }
   ],
   "source": [
    "# 5. What would you use to find a number’s square root, as well as its square? \n",
    "print(9**(1/2)) # square root of 9\n",
    "print(3**2) # 3 sqaured"
   ]
  },
  {
   "cell_type": "code",
   "execution_count": 13,
   "id": "610d134a",
   "metadata": {},
   "outputs": [
    {
     "data": {
      "text/plain": [
       "'e'"
      ]
     },
     "execution_count": 13,
     "metadata": {},
     "output_type": "execute_result"
    }
   ],
   "source": [
    "# 6. Given the string 'hello' give an index command that returns 'e'. Enter your code in the cell below:\n",
    "\n",
    "s = 'hello'\n",
    "# Print out 'e' using indexing\n",
    "\n",
    "s[1]"
   ]
  },
  {
   "cell_type": "code",
   "execution_count": 14,
   "id": "71ea3d6b",
   "metadata": {},
   "outputs": [
    {
     "data": {
      "text/plain": [
       "'olleh'"
      ]
     },
     "execution_count": 14,
     "metadata": {},
     "output_type": "execute_result"
    }
   ],
   "source": [
    "# 7. Reverse the string 'hello' using slicing:\n",
    "\n",
    "s[::-1]"
   ]
  },
  {
   "cell_type": "code",
   "execution_count": 15,
   "id": "39cee01f",
   "metadata": {},
   "outputs": [
    {
     "name": "stdout",
     "output_type": "stream",
     "text": [
      "o\n",
      "o\n"
     ]
    }
   ],
   "source": [
    "# 8. Given the string hello, give two methods of producing the letter 'o' using indexing.\n",
    "\n",
    "print(s[-1])\n",
    "print(s[4])"
   ]
  },
  {
   "cell_type": "code",
   "execution_count": 17,
   "id": "6a8108a7",
   "metadata": {},
   "outputs": [
    {
     "data": {
      "text/plain": [
       "[0, 0, 0]"
      ]
     },
     "execution_count": 17,
     "metadata": {},
     "output_type": "execute_result"
    }
   ],
   "source": [
    "# 9. Build this list [0,0,0] two separate ways.\n",
    "# Method 1\n",
    "    \n",
    "my_list1 = [0,0,0]\n",
    "my_list1"
   ]
  },
  {
   "cell_type": "code",
   "execution_count": 18,
   "id": "df97da06",
   "metadata": {},
   "outputs": [
    {
     "data": {
      "text/plain": [
       "[0, 0, 0]"
      ]
     },
     "execution_count": 18,
     "metadata": {},
     "output_type": "execute_result"
    }
   ],
   "source": [
    "# 9. Build this list [0,0,0] two separate ways.\n",
    "#Method2\n",
    "\n",
    "my_list2 = [0] * 3\n",
    "my_list2"
   ]
  },
  {
   "cell_type": "code",
   "execution_count": 19,
   "id": "3af36f1f",
   "metadata": {},
   "outputs": [
    {
     "name": "stdout",
     "output_type": "stream",
     "text": [
      "[1, 2, [3, 4, 'hello']]\n",
      "[1, 2, [3, 4, 'goodbye']]\n"
     ]
    }
   ],
   "source": [
    "# 10. Reassign 'hello' in this nested list to say 'goodbye' instead:\n",
    "\n",
    "list3 = [1,2,[3,4,'hello']]\n",
    "print(list3)\n",
    "\n",
    "#reassign\n",
    "list3[2][2] = 'goodbye'\n",
    "print(list3)"
   ]
  },
  {
   "cell_type": "code",
   "execution_count": 25,
   "id": "5304dec5",
   "metadata": {},
   "outputs": [
    {
     "data": {
      "text/plain": [
       "[1, 3, 4, 5, 6]"
      ]
     },
     "execution_count": 25,
     "metadata": {},
     "output_type": "execute_result"
    }
   ],
   "source": [
    "# 11. Sort the list below: \n",
    "\n",
    "list4 = [5,3,4,6,1]\n",
    "list4.sort()\n",
    "list4"
   ]
  },
  {
   "cell_type": "code",
   "execution_count": 26,
   "id": "21cf9664",
   "metadata": {},
   "outputs": [
    {
     "data": {
      "text/plain": [
       "'hello'"
      ]
     },
     "execution_count": 26,
     "metadata": {},
     "output_type": "execute_result"
    }
   ],
   "source": [
    "# 12. Using keys and indexing, grab the 'hello' from the following dictionaries:\n",
    "\n",
    "d = {'simple_key' : 'hello'}\n",
    "#Grab 'hello'\n",
    "\n",
    "d['simple_key']"
   ]
  },
  {
   "cell_type": "code",
   "execution_count": 28,
   "id": "f060ba79",
   "metadata": {},
   "outputs": [
    {
     "data": {
      "text/plain": [
       "'hello'"
      ]
     },
     "execution_count": 28,
     "metadata": {},
     "output_type": "execute_result"
    }
   ],
   "source": [
    "#getting a little tricker\n",
    "d = {'k1': {'k2': 'hello'}}\n",
    "\n",
    "#Grab hello\n",
    "d['k1']['k2']"
   ]
  },
  {
   "cell_type": "code",
   "execution_count": 29,
   "id": "bcf37a7e",
   "metadata": {},
   "outputs": [
    {
     "data": {
      "text/plain": [
       "'hello'"
      ]
     },
     "execution_count": 29,
     "metadata": {},
     "output_type": "execute_result"
    }
   ],
   "source": [
    "d = {'k1' : [{'nest_key' : ['this is deep', ['hello']]}]}\n",
    "\n",
    "#Grab hello\n",
    "d['k1'][0]['nest_key'][1][0]"
   ]
  },
  {
   "cell_type": "code",
   "execution_count": 30,
   "id": "b9624942",
   "metadata": {},
   "outputs": [
    {
     "data": {
      "text/plain": [
       "'hello'"
      ]
     },
     "execution_count": 30,
     "metadata": {},
     "output_type": "execute_result"
    }
   ],
   "source": [
    "# This will be hard and annoying\n",
    "d = {'k1' : [1,2,{'k2' : ['this is tricky', {'tough' : [1,2,['hello']]}]}]}\n",
    "\n",
    "#Grab hello\n",
    "d['k1'][2]['k2'][1]['tough'][2][0]"
   ]
  },
  {
   "cell_type": "code",
   "execution_count": 31,
   "id": "57155fa2",
   "metadata": {},
   "outputs": [],
   "source": [
    "#13 can you sort a dictionary? Why or why not?\n",
    "\n",
    "# No, you can not sort a dictionary, because dictionaries are unordered in the first place"
   ]
  },
  {
   "cell_type": "code",
   "execution_count": 32,
   "id": "24ddc596",
   "metadata": {},
   "outputs": [],
   "source": [
    "#14 What is the major difference between tuples and lists?\n",
    "\n",
    "# Tuples are immutable, meaning the values inside tuples are permanent and cannot be manipulated or changed\n",
    "# While lists are mutable, meaning the users can change the values of a specific index"
   ]
  },
  {
   "cell_type": "code",
   "execution_count": 33,
   "id": "78780fd5",
   "metadata": {},
   "outputs": [],
   "source": [
    "# 15. How do=o you create a tuple\n",
    "\n",
    "# using parenthesis () and using it like a list, that is putting values separated by a comma (,)"
   ]
  },
  {
   "cell_type": "code",
   "execution_count": 34,
   "id": "8b86f26d",
   "metadata": {},
   "outputs": [],
   "source": [
    "# 16. what is unique about a set?\n",
    "\n",
    "# a set is an unordered list of unique elemets. What's unique about it, is it cleans up duplicates and automatically removes them if they are added."
   ]
  },
  {
   "cell_type": "code",
   "execution_count": 35,
   "id": "f3ed013c",
   "metadata": {},
   "outputs": [
    {
     "data": {
      "text/plain": [
       "{1, 2, 3, 4, 11, 22, 33}"
      ]
     },
     "execution_count": 35,
     "metadata": {},
     "output_type": "execute_result"
    }
   ],
   "source": [
    "# 17. Use a set to find the unique values of the list below\n",
    "list5 = [1,2,2,33,4,4,11,22,3,3,2]\n",
    "\n",
    "set1 = set(list5)\n",
    "set1"
   ]
  },
  {
   "cell_type": "code",
   "execution_count": 36,
   "id": "93d03a43",
   "metadata": {},
   "outputs": [
    {
     "data": {
      "text/plain": [
       "False"
      ]
     },
     "execution_count": 36,
     "metadata": {},
     "output_type": "execute_result"
    }
   ],
   "source": [
    "# 18. What will be the resulting Boolean of the following pieces of code (answer first then check by typing it in)\n",
    "\n",
    "2 > 3 # False"
   ]
  },
  {
   "cell_type": "code",
   "execution_count": 37,
   "id": "5b661ad6",
   "metadata": {},
   "outputs": [
    {
     "data": {
      "text/plain": [
       "False"
      ]
     },
     "execution_count": 37,
     "metadata": {},
     "output_type": "execute_result"
    }
   ],
   "source": [
    "3 <= 2 # False"
   ]
  },
  {
   "cell_type": "code",
   "execution_count": 38,
   "id": "80a3ab38",
   "metadata": {},
   "outputs": [
    {
     "data": {
      "text/plain": [
       "False"
      ]
     },
     "execution_count": 38,
     "metadata": {},
     "output_type": "execute_result"
    }
   ],
   "source": [
    "3 == 2.0 # False"
   ]
  },
  {
   "cell_type": "code",
   "execution_count": 39,
   "id": "6f69523d",
   "metadata": {},
   "outputs": [
    {
     "data": {
      "text/plain": [
       "True"
      ]
     },
     "execution_count": 39,
     "metadata": {},
     "output_type": "execute_result"
    }
   ],
   "source": [
    "3.0 == 3 # True"
   ]
  },
  {
   "cell_type": "code",
   "execution_count": 40,
   "id": "3615f66a",
   "metadata": {},
   "outputs": [
    {
     "data": {
      "text/plain": [
       "False"
      ]
     },
     "execution_count": 40,
     "metadata": {},
     "output_type": "execute_result"
    }
   ],
   "source": [
    "4**0.5 != 2 # False"
   ]
  },
  {
   "cell_type": "code",
   "execution_count": 41,
   "id": "a75aad68",
   "metadata": {},
   "outputs": [
    {
     "data": {
      "text/plain": [
       "False"
      ]
     },
     "execution_count": 41,
     "metadata": {},
     "output_type": "execute_result"
    }
   ],
   "source": [
    "#19 Final Question: what is the boolean output of the cell block below?\n",
    "\n",
    "#two nested lists\n",
    "l_one = [1,2,[3,4]]\n",
    "l_two = [1,2,{'k1': 4}]\n",
    "\n",
    "#True or False?\n",
    "l_one[2][0] >= l_two[2]['k1'] # False"
   ]
  },
  {
   "cell_type": "code",
   "execution_count": null,
   "id": "ca21e838",
   "metadata": {},
   "outputs": [],
   "source": []
  }
 ],
 "metadata": {
  "kernelspec": {
   "display_name": "Python 3 (ipykernel)",
   "language": "python",
   "name": "python3"
  },
  "language_info": {
   "codemirror_mode": {
    "name": "ipython",
    "version": 3
   },
   "file_extension": ".py",
   "mimetype": "text/x-python",
   "name": "python",
   "nbconvert_exporter": "python",
   "pygments_lexer": "ipython3",
   "version": "3.10.5"
  }
 },
 "nbformat": 4,
 "nbformat_minor": 5
}
