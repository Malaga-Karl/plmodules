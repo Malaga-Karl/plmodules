{
 "cells": [
  {
   "cell_type": "code",
   "execution_count": 4,
   "id": "a9d722a6",
   "metadata": {},
   "outputs": [],
   "source": [
    "#Operations"
   ]
  },
  {
   "cell_type": "code",
   "execution_count": 6,
   "id": "d7ddcbcb",
   "metadata": {},
   "outputs": [
    {
     "data": {
      "text/plain": [
       "2"
      ]
     },
     "execution_count": 6,
     "metadata": {},
     "output_type": "execute_result"
    }
   ],
   "source": [
    "#floor Division //\n",
    "\n",
    "5//2"
   ]
  },
  {
   "cell_type": "code",
   "execution_count": 8,
   "id": "be28f240",
   "metadata": {},
   "outputs": [
    {
     "data": {
      "text/plain": [
       "25"
      ]
     },
     "execution_count": 8,
     "metadata": {},
     "output_type": "execute_result"
    }
   ],
   "source": [
    "#exponent\n",
    "5**2"
   ]
  },
  {
   "cell_type": "code",
   "execution_count": 9,
   "id": "a65bdc63",
   "metadata": {},
   "outputs": [
    {
     "data": {
      "text/plain": [
       "0.75"
      ]
     },
     "execution_count": 9,
     "metadata": {},
     "output_type": "execute_result"
    }
   ],
   "source": [
    "3/4"
   ]
  },
  {
   "cell_type": "code",
   "execution_count": 10,
   "id": "0ec20287",
   "metadata": {},
   "outputs": [
    {
     "data": {
      "text/plain": [
       "'ello World'"
      ]
     },
     "execution_count": 10,
     "metadata": {},
     "output_type": "execute_result"
    }
   ],
   "source": [
    "s = 'Hello World'\n",
    "\n",
    "s[1:]"
   ]
  },
  {
   "cell_type": "code",
   "execution_count": 11,
   "id": "529ca657",
   "metadata": {},
   "outputs": [
    {
     "data": {
      "text/plain": [
       "'Hello'"
      ]
     },
     "execution_count": 11,
     "metadata": {},
     "output_type": "execute_result"
    }
   ],
   "source": [
    "s[:5]"
   ]
  },
  {
   "cell_type": "code",
   "execution_count": 13,
   "id": "6d72544c",
   "metadata": {},
   "outputs": [
    {
     "data": {
      "text/plain": [
       "'Hello World'"
      ]
     },
     "execution_count": 13,
     "metadata": {},
     "output_type": "execute_result"
    }
   ],
   "source": [
    "s[::1]"
   ]
  },
  {
   "cell_type": "code",
   "execution_count": 14,
   "id": "1cc8fadf",
   "metadata": {},
   "outputs": [
    {
     "data": {
      "text/plain": [
       "'HloWrd'"
      ]
     },
     "execution_count": 14,
     "metadata": {},
     "output_type": "execute_result"
    }
   ],
   "source": [
    "s[::2]"
   ]
  },
  {
   "cell_type": "code",
   "execution_count": 15,
   "id": "d4398558",
   "metadata": {},
   "outputs": [
    {
     "data": {
      "text/plain": [
       "'dlroW olleH'"
      ]
     },
     "execution_count": 15,
     "metadata": {},
     "output_type": "execute_result"
    }
   ],
   "source": [
    "s[::-1]"
   ]
  },
  {
   "cell_type": "code",
   "execution_count": 16,
   "id": "3e59b698",
   "metadata": {},
   "outputs": [
    {
     "ename": "TypeError",
     "evalue": "'str' object does not support item assignment",
     "output_type": "error",
     "traceback": [
      "\u001b[1;31m---------------------------------------------------------------------------\u001b[0m",
      "\u001b[1;31mTypeError\u001b[0m                                 Traceback (most recent call last)",
      "Cell \u001b[1;32mIn[16], line 1\u001b[0m\n\u001b[1;32m----> 1\u001b[0m \u001b[43ms\u001b[49m\u001b[43m[\u001b[49m\u001b[38;5;241;43m0\u001b[39;49m\u001b[43m]\u001b[49m\u001b[38;5;241m=\u001b[39m\u001b[38;5;124m'\u001b[39m\u001b[38;5;124mx\u001b[39m\u001b[38;5;124m'\u001b[39m\n",
      "\u001b[1;31mTypeError\u001b[0m: 'str' object does not support item assignment"
     ]
    }
   ],
   "source": [
    "s[0]='x'"
   ]
  },
  {
   "cell_type": "code",
   "execution_count": 1,
   "id": "70f987a0",
   "metadata": {},
   "outputs": [],
   "source": [
    "my_list = [1,2,'3']"
   ]
  },
  {
   "cell_type": "code",
   "execution_count": 2,
   "id": "8398a630",
   "metadata": {},
   "outputs": [
    {
     "name": "stdout",
     "output_type": "stream",
     "text": [
      "[1, 2, '3']\n"
     ]
    }
   ],
   "source": [
    "print(my_list)"
   ]
  },
  {
   "cell_type": "code",
   "execution_count": 3,
   "id": "dfe709b4",
   "metadata": {},
   "outputs": [
    {
     "ename": "TypeError",
     "evalue": "can only concatenate list (not \"int\") to list",
     "output_type": "error",
     "traceback": [
      "\u001b[1;31m---------------------------------------------------------------------------\u001b[0m",
      "\u001b[1;31mTypeError\u001b[0m                                 Traceback (most recent call last)",
      "Cell \u001b[1;32mIn[3], line 1\u001b[0m\n\u001b[1;32m----> 1\u001b[0m \u001b[38;5;28mprint\u001b[39m(\u001b[43mmy_list\u001b[49m\u001b[43m \u001b[49m\u001b[38;5;241;43m+\u001b[39;49m\u001b[43m \u001b[49m\u001b[38;5;241;43m3\u001b[39;49m)\n",
      "\u001b[1;31mTypeError\u001b[0m: can only concatenate list (not \"int\") to list"
     ]
    }
   ],
   "source": [
    "print(my_list + 3)"
   ]
  },
  {
   "cell_type": "code",
   "execution_count": 4,
   "id": "b4a49561",
   "metadata": {},
   "outputs": [
    {
     "name": "stdout",
     "output_type": "stream",
     "text": [
      "[1, 2, '3', 3]\n"
     ]
    }
   ],
   "source": [
    "print(my_list + [3])"
   ]
  },
  {
   "cell_type": "code",
   "execution_count": 5,
   "id": "9aea6a0c",
   "metadata": {},
   "outputs": [
    {
     "ename": "TypeError",
     "evalue": "descriptor 'pop' for 'list' objects doesn't apply to a 'int' object",
     "output_type": "error",
     "traceback": [
      "\u001b[1;31m---------------------------------------------------------------------------\u001b[0m",
      "\u001b[1;31mTypeError\u001b[0m                                 Traceback (most recent call last)",
      "Cell \u001b[1;32mIn[5], line 1\u001b[0m\n\u001b[1;32m----> 1\u001b[0m \u001b[38;5;28mprint\u001b[39m(\u001b[38;5;28;43mlist\u001b[39;49m\u001b[38;5;241;43m.\u001b[39;49m\u001b[43mpop\u001b[49m\u001b[43m(\u001b[49m\u001b[38;5;241;43m1\u001b[39;49m\u001b[43m)\u001b[49m)\n",
      "\u001b[1;31mTypeError\u001b[0m: descriptor 'pop' for 'list' objects doesn't apply to a 'int' object"
     ]
    }
   ],
   "source": [
    "print(list.pop(1))"
   ]
  },
  {
   "cell_type": "code",
   "execution_count": 6,
   "id": "f97007ee",
   "metadata": {},
   "outputs": [
    {
     "name": "stdout",
     "output_type": "stream",
     "text": [
      "2\n"
     ]
    }
   ],
   "source": [
    "print(my_list.pop(1))"
   ]
  },
  {
   "cell_type": "code",
   "execution_count": 7,
   "id": "fb09c569",
   "metadata": {},
   "outputs": [],
   "source": [
    "my_list = my_list.pop(1)"
   ]
  },
  {
   "cell_type": "code",
   "execution_count": 8,
   "id": "5169c350",
   "metadata": {},
   "outputs": [
    {
     "data": {
      "text/plain": [
       "'3'"
      ]
     },
     "execution_count": 8,
     "metadata": {},
     "output_type": "execute_result"
    }
   ],
   "source": [
    "my_list"
   ]
  },
  {
   "cell_type": "code",
   "execution_count": 9,
   "id": "f148305f",
   "metadata": {},
   "outputs": [],
   "source": [
    "my_list = [1,2,'3']"
   ]
  },
  {
   "cell_type": "code",
   "execution_count": 11,
   "id": "9408e1d7",
   "metadata": {},
   "outputs": [
    {
     "data": {
      "text/plain": [
       "[1, 2, '3']"
      ]
     },
     "execution_count": 11,
     "metadata": {},
     "output_type": "execute_result"
    }
   ],
   "source": [
    "my_list"
   ]
  },
  {
   "cell_type": "code",
   "execution_count": 12,
   "id": "685ab0c4",
   "metadata": {},
   "outputs": [],
   "source": [
    "my_list = my_list + [3]"
   ]
  },
  {
   "cell_type": "code",
   "execution_count": 13,
   "id": "d9d11a07",
   "metadata": {},
   "outputs": [
    {
     "data": {
      "text/plain": [
       "[1, 2, '3', 3]"
      ]
     },
     "execution_count": 13,
     "metadata": {},
     "output_type": "execute_result"
    }
   ],
   "source": [
    "my_list"
   ]
  },
  {
   "cell_type": "code",
   "execution_count": 14,
   "id": "35db3b55",
   "metadata": {},
   "outputs": [
    {
     "data": {
      "text/plain": [
       "2"
      ]
     },
     "execution_count": 14,
     "metadata": {},
     "output_type": "execute_result"
    }
   ],
   "source": [
    "my_list.pop(1)"
   ]
  },
  {
   "cell_type": "code",
   "execution_count": 15,
   "id": "492f82c6",
   "metadata": {},
   "outputs": [
    {
     "data": {
      "text/plain": [
       "[1, '3', 3]"
      ]
     },
     "execution_count": 15,
     "metadata": {},
     "output_type": "execute_result"
    }
   ],
   "source": [
    "my_list"
   ]
  },
  {
   "cell_type": "code",
   "execution_count": 16,
   "id": "7c22ddd3",
   "metadata": {},
   "outputs": [],
   "source": [
    "d = {}"
   ]
  },
  {
   "cell_type": "code",
   "execution_count": 17,
   "id": "622d8752",
   "metadata": {},
   "outputs": [],
   "source": [
    "d['number'] = 0"
   ]
  },
  {
   "cell_type": "code",
   "execution_count": 18,
   "id": "96badadd",
   "metadata": {},
   "outputs": [],
   "source": [
    "d['letter'] = 'A'"
   ]
  },
  {
   "cell_type": "code",
   "execution_count": 19,
   "id": "30882854",
   "metadata": {},
   "outputs": [
    {
     "data": {
      "text/plain": [
       "{'number': 0, 'letter': 'A'}"
      ]
     },
     "execution_count": 19,
     "metadata": {},
     "output_type": "execute_result"
    }
   ],
   "source": [
    "d"
   ]
  },
  {
   "cell_type": "code",
   "execution_count": 20,
   "id": "e9e9a666",
   "metadata": {},
   "outputs": [
    {
     "ename": "KeyError",
     "evalue": "'numbers'",
     "output_type": "error",
     "traceback": [
      "\u001b[1;31m---------------------------------------------------------------------------\u001b[0m",
      "\u001b[1;31mKeyError\u001b[0m                                  Traceback (most recent call last)",
      "Cell \u001b[1;32mIn[20], line 1\u001b[0m\n\u001b[1;32m----> 1\u001b[0m d[\u001b[38;5;124m'\u001b[39m\u001b[38;5;124mnumbers\u001b[39m\u001b[38;5;124m'\u001b[39m] \u001b[38;5;241m+\u001b[39m\u001b[38;5;241m=\u001b[39m \u001b[38;5;241m5\u001b[39m\n",
      "\u001b[1;31mKeyError\u001b[0m: 'numbers'"
     ]
    }
   ],
   "source": [
    "d['numbers'] += 5"
   ]
  },
  {
   "cell_type": "code",
   "execution_count": 21,
   "id": "0ea32436",
   "metadata": {},
   "outputs": [
    {
     "data": {
      "text/plain": [
       "dict_keys(['number', 'letter'])"
      ]
     },
     "execution_count": 21,
     "metadata": {},
     "output_type": "execute_result"
    }
   ],
   "source": [
    "d.keys()"
   ]
  },
  {
   "cell_type": "code",
   "execution_count": 22,
   "id": "38ba253c",
   "metadata": {},
   "outputs": [
    {
     "data": {
      "text/plain": [
       "<function dict.values>"
      ]
     },
     "execution_count": 22,
     "metadata": {},
     "output_type": "execute_result"
    }
   ],
   "source": [
    "d.values"
   ]
  },
  {
   "cell_type": "code",
   "execution_count": 23,
   "id": "0111e554",
   "metadata": {},
   "outputs": [
    {
     "data": {
      "text/plain": [
       "dict_values([0, 'A'])"
      ]
     },
     "execution_count": 23,
     "metadata": {},
     "output_type": "execute_result"
    }
   ],
   "source": [
    "d.values()"
   ]
  },
  {
   "cell_type": "code",
   "execution_count": 24,
   "id": "2870efea",
   "metadata": {},
   "outputs": [
    {
     "data": {
      "text/plain": [
       "dict_items([('number', 0), ('letter', 'A')])"
      ]
     },
     "execution_count": 24,
     "metadata": {},
     "output_type": "execute_result"
    }
   ],
   "source": [
    "d.items()"
   ]
  },
  {
   "cell_type": "code",
   "execution_count": 25,
   "id": "1aa93667",
   "metadata": {},
   "outputs": [],
   "source": [
    "my_list = [1,1,1,2,3,4]"
   ]
  },
  {
   "cell_type": "code",
   "execution_count": 26,
   "id": "c295e826",
   "metadata": {},
   "outputs": [
    {
     "data": {
      "text/plain": [
       "3"
      ]
     },
     "execution_count": 26,
     "metadata": {},
     "output_type": "execute_result"
    }
   ],
   "source": [
    "my_list.count(1)"
   ]
  },
  {
   "cell_type": "code",
   "execution_count": 27,
   "id": "26d86c82",
   "metadata": {},
   "outputs": [
    {
     "name": "stdout",
     "output_type": "stream",
     "text": [
      "Writing writefile.txt\n"
     ]
    }
   ],
   "source": [
    "%%writefile writefile.txt\n",
    "Testing the ability of jupyter notebook to write files"
   ]
  },
  {
   "cell_type": "code",
   "execution_count": 28,
   "id": "cef12b29",
   "metadata": {},
   "outputs": [
    {
     "data": {
      "text/plain": [
       "'D:\\\\coding\\\\python\\\\plm_proglang'"
      ]
     },
     "execution_count": 28,
     "metadata": {},
     "output_type": "execute_result"
    }
   ],
   "source": [
    "pwd"
   ]
  },
  {
   "cell_type": "code",
   "execution_count": 29,
   "id": "781b54ec",
   "metadata": {},
   "outputs": [
    {
     "name": "stdout",
     "output_type": "stream",
     "text": [
      " Volume in drive D is Backup\n",
      " Volume Serial Number is B41B-FB77\n",
      "\n",
      " Directory of D:\\coding\\python\\plm_proglang\n",
      "\n",
      "05/09/2023  01:04 pm    <DIR>          .\n",
      "05/09/2023  01:04 pm    <DIR>          ..\n",
      "04/09/2023  08:06 pm    <DIR>          .ipynb_checkpoints\n",
      "05/09/2023  01:04 pm               869 classsample.py\n",
      "04/09/2023  02:44 pm    <DIR>          Module 1\n",
      "05/09/2023  01:03 pm            13,073 Notebook.ipynb\n",
      "04/09/2023  06:46 pm               869 tempCodeRunnerFile.py\n",
      "05/09/2023  01:02 pm                56 writefile.txt\n",
      "               4 File(s)         14,867 bytes\n",
      "               4 Dir(s)  332,463,857,664 bytes free\n"
     ]
    }
   ],
   "source": [
    "ls"
   ]
  },
  {
   "cell_type": "code",
   "execution_count": 35,
   "id": "049a8f60",
   "metadata": {},
   "outputs": [
    {
     "name": "stdout",
     "output_type": "stream",
     "text": [
      "Testing the ability of jupyter notebook to write files\n",
      "\n"
     ]
    }
   ],
   "source": [
    "with open('writefile.txt') as file:\n",
    "    print(file.read())"
   ]
  },
  {
   "cell_type": "code",
   "execution_count": 33,
   "id": "08e240f7",
   "metadata": {},
   "outputs": [],
   "source": [
    "myfile = open('writefile.txt')"
   ]
  },
  {
   "cell_type": "code",
   "execution_count": 34,
   "id": "890e606b",
   "metadata": {},
   "outputs": [
    {
     "data": {
      "text/plain": [
       "'Testing the ability of jupyter notebook to write files\\n'"
      ]
     },
     "execution_count": 34,
     "metadata": {},
     "output_type": "execute_result"
    }
   ],
   "source": [
    "myfile.read()"
   ]
  },
  {
   "cell_type": "code",
   "execution_count": 36,
   "id": "437ed03d",
   "metadata": {},
   "outputs": [
    {
     "data": {
      "text/plain": [
       "0"
      ]
     },
     "execution_count": 36,
     "metadata": {},
     "output_type": "execute_result"
    }
   ],
   "source": [
    "myfile.seek(0)"
   ]
  },
  {
   "cell_type": "code",
   "execution_count": 37,
   "id": "0a4fa08d",
   "metadata": {},
   "outputs": [
    {
     "data": {
      "text/plain": [
       "1"
      ]
     },
     "execution_count": 37,
     "metadata": {},
     "output_type": "execute_result"
    }
   ],
   "source": [
    "myfile.seek(1)"
   ]
  },
  {
   "cell_type": "code",
   "execution_count": 1,
   "id": "04f84074",
   "metadata": {},
   "outputs": [
    {
     "name": "stdout",
     "output_type": "stream",
     "text": [
      "2\n",
      "4\n",
      "6\n"
     ]
    }
   ],
   "source": [
    "list_tuple = [(2,3), (4,5),(6,7)]\n",
    "\n",
    "for (a,b) in list_tuple:\n",
    "    print(a)"
   ]
  },
  {
   "cell_type": "code",
   "execution_count": 2,
   "id": "db411151",
   "metadata": {},
   "outputs": [
    {
     "name": "stdout",
     "output_type": "stream",
     "text": [
      "(2, 3)\n",
      "(4, 5)\n",
      "(6, 7)\n"
     ]
    }
   ],
   "source": [
    "for tups in list_tuple:\n",
    "    print(tups)"
   ]
  },
  {
   "cell_type": "code",
   "execution_count": 3,
   "id": "e09f3862",
   "metadata": {},
   "outputs": [],
   "source": [
    "loop_dict = {\n",
    "    'k1': 1,\n",
    "    'k2': 2,\n",
    "    'k3': 3\n",
    "}"
   ]
  },
  {
   "cell_type": "code",
   "execution_count": 4,
   "id": "5567acf9",
   "metadata": {},
   "outputs": [
    {
     "name": "stdout",
     "output_type": "stream",
     "text": [
      "k1\n",
      "k2\n",
      "k3\n"
     ]
    }
   ],
   "source": [
    "for key in loop_dict:\n",
    "    print(key)"
   ]
  },
  {
   "cell_type": "code",
   "execution_count": 6,
   "id": "5859d99f",
   "metadata": {},
   "outputs": [
    {
     "name": "stdout",
     "output_type": "stream",
     "text": [
      "dict_items([('k1', 1), ('k2', 2), ('k3', 3)])\n"
     ]
    }
   ],
   "source": [
    "print (loop_dict.items())"
   ]
  },
  {
   "cell_type": "code",
   "execution_count": 7,
   "id": "676a4cf8",
   "metadata": {},
   "outputs": [
    {
     "name": "stdout",
     "output_type": "stream",
     "text": [
      "1\n",
      "2\n",
      "3\n"
     ]
    }
   ],
   "source": [
    "for (k,v) in loop_dict.items():\n",
    "    print(v)"
   ]
  },
  {
   "cell_type": "code",
   "execution_count": 8,
   "id": "ec939dbc",
   "metadata": {},
   "outputs": [
    {
     "data": {
      "text/plain": [
       "[1, 3, 5, 7, 9]"
      ]
     },
     "execution_count": 8,
     "metadata": {},
     "output_type": "execute_result"
    }
   ],
   "source": [
    "list(range(1,10,2))"
   ]
  },
  {
   "cell_type": "code",
   "execution_count": 9,
   "id": "a402b5c4",
   "metadata": {},
   "outputs": [
    {
     "data": {
      "text/plain": [
       "[0, 1, 2, 3, 4, 5, 6, 7, 8, 9]"
      ]
     },
     "execution_count": 9,
     "metadata": {},
     "output_type": "execute_result"
    }
   ],
   "source": [
    "list(range(10))"
   ]
  },
  {
   "cell_type": "code",
   "execution_count": 1,
   "id": "bca50646",
   "metadata": {},
   "outputs": [
    {
     "data": {
      "text/plain": [
       "[(0, 'a'), (1, 'b'), (2, 'c'), (3, 'd')]"
      ]
     },
     "execution_count": 1,
     "metadata": {},
     "output_type": "execute_result"
    }
   ],
   "source": [
    "list(enumerate('abcd'))"
   ]
  },
  {
   "cell_type": "code",
   "execution_count": 3,
   "id": "595c1697",
   "metadata": {},
   "outputs": [
    {
     "data": {
      "text/plain": [
       "[(1, 'a'), (2, 'b'), (3, 'c'), (4, 'd'), (5, 'e')]"
      ]
     },
     "execution_count": 3,
     "metadata": {},
     "output_type": "execute_result"
    }
   ],
   "source": [
    "zip_list1 = [1,2,3,4,5,6]\n",
    "zip_list2 = ['a', 'b','c','d','e']\n",
    "\n",
    "list(zip(zip_list1, zip_list2))"
   ]
  },
  {
   "cell_type": "code",
   "execution_count": 11,
   "id": "078b03a5",
   "metadata": {},
   "outputs": [
    {
     "name": "stdout",
     "output_type": "stream",
     "text": [
      "cat dog\n"
     ]
    }
   ],
   "source": [
    "mylist = ['cat','dog']\n",
    "print(*mylist)"
   ]
  },
  {
   "cell_type": "code",
   "execution_count": 14,
   "id": "9dccd1dc",
   "metadata": {},
   "outputs": [
    {
     "data": {
      "text/plain": [
       "'hlool'"
      ]
     },
     "execution_count": 14,
     "metadata": {},
     "output_type": "execute_result"
    }
   ],
   "source": [
    "mystr = 'helloworld'\n",
    "mystr[0::2]"
   ]
  },
  {
   "cell_type": "code",
   "execution_count": 15,
   "id": "7c6bf87b",
   "metadata": {},
   "outputs": [],
   "source": [
    "with open('writefile.txt') as writefile:\n",
    "    writefile.read()"
   ]
  },
  {
   "cell_type": "code",
   "execution_count": 3,
   "id": "330d3b09",
   "metadata": {},
   "outputs": [
    {
     "name": "stdout",
     "output_type": "stream",
     "text": [
      "enter first number: 6\n",
      "enter second number: 6\n",
      "6 and 6 are equal\n"
     ]
    }
   ],
   "source": [
    "a = input('enter first number: ')\n",
    "b = input('enter second number: ')\n",
    "\n",
    "if(a > b):\n",
    "    print(f'{a} is greater')\n",
    "elif(a < b):\n",
    "    print(f'{a} is less')\n",
    "else:\n",
    "    print(f'{a} and {b} are equal')"
   ]
  },
  {
   "cell_type": "code",
   "execution_count": 10,
   "id": "78183b80",
   "metadata": {},
   "outputs": [
    {
     "name": "stdout",
     "output_type": "stream",
     "text": [
      "enter year: 1323\n",
      "not\n"
     ]
    }
   ],
   "source": [
    "year = int(input('enter year: '))\n",
    "if (year % 4 == 0 and year % 100 != 0) or year % 400 == 0:\n",
    "    print('Leap')\n",
    "else:\n",
    "    print('not')"
   ]
  },
  {
   "cell_type": "code",
   "execution_count": 12,
   "id": "74fed822",
   "metadata": {},
   "outputs": [
    {
     "name": "stdout",
     "output_type": "stream",
     "text": [
      "enter number52\n",
      "even\n"
     ]
    }
   ],
   "source": [
    "number = int(input('enter number'))\n",
    "print('even') if number % 2 == 0 else print('odd')"
   ]
  },
  {
   "cell_type": "code",
   "execution_count": 19,
   "id": "bcc24098",
   "metadata": {},
   "outputs": [
    {
     "name": "stdout",
     "output_type": "stream",
     "text": [
      "5\n"
     ]
    }
   ],
   "source": [
    "print(5)"
   ]
  },
  {
   "cell_type": "code",
   "execution_count": 29,
   "id": "00ce0a4c",
   "metadata": {},
   "outputs": [
    {
     "name": "stdout",
     "output_type": "stream",
     "text": [
      "24\n",
      "52\n",
      "51\n",
      "21\n",
      "11\n"
     ]
    }
   ],
   "source": [
    "samplelist = [24,2,52,3,1,3,51,21,11]\n",
    "for number in samplelist:\n",
    "    if number > 10: print(number)\n",
    "    "
   ]
  },
  {
   "cell_type": "code",
   "execution_count": 37,
   "id": "e46929e5",
   "metadata": {},
   "outputs": [
    {
     "name": "stdout",
     "output_type": "stream",
     "text": [
      "24\n",
      "hello\n"
     ]
    }
   ],
   "source": [
    "for number in samplelist:\n",
    "    if number > 10:\n",
    "        print(number)\n",
    "    else:\n",
    "        break\n",
    "    print('hello')"
   ]
  },
  {
   "cell_type": "code",
   "execution_count": 39,
   "id": "39d65e14",
   "metadata": {},
   "outputs": [
    {
     "name": "stdout",
     "output_type": "stream",
     "text": [
      "<enumerate object at 0x000001E96A4CBD00>\n",
      "<enumerate object at 0x000001E96A4CBD00>\n",
      "<enumerate object at 0x000001E96A4CBD00>\n",
      "<enumerate object at 0x000001E96A4CBD00>\n",
      "<enumerate object at 0x000001E96A4CBD00>\n"
     ]
    }
   ],
   "source": [
    "index = 0\n",
    "for letter in 'abcde':\n",
    "    print(enumerate(a, index))"
   ]
  },
  {
   "cell_type": "code",
   "execution_count": 42,
   "id": "8ef5e42f",
   "metadata": {},
   "outputs": [
    {
     "name": "stdout",
     "output_type": "stream",
     "text": [
      "[(0, 'a'), (1, 'b'), (2, 'c'), (3, 'd'), (4, 'e')]\n"
     ]
    }
   ],
   "source": [
    "print(list(enumerate('abcde')))"
   ]
  },
  {
   "cell_type": "code",
   "execution_count": 75,
   "id": "6447d1ae",
   "metadata": {},
   "outputs": [],
   "source": [
    "class Rectangle:\n",
    "    def __init__(self, lenth, width)\n",
    "    \n",
    "    def findPerimeter(self): return (self.length*2) + (self.width*2)\n",
    "    size = 2\n",
    "\n",
    "    def findArea(self):\n",
    "        return self.length*self.width\n"
   ]
  },
  {
   "cell_type": "code",
   "execution_count": 76,
   "id": "d48ecec2",
   "metadata": {},
   "outputs": [],
   "source": [
    "myRect = Rectangle()"
   ]
  },
  {
   "cell_type": "code",
   "execution_count": 77,
   "id": "eae9524d",
   "metadata": {},
   "outputs": [
    {
     "ename": "TypeError",
     "evalue": "Rectangle.findArea() takes 0 positional arguments but 1 was given",
     "output_type": "error",
     "traceback": [
      "\u001b[1;31m---------------------------------------------------------------------------\u001b[0m",
      "\u001b[1;31mTypeError\u001b[0m                                 Traceback (most recent call last)",
      "Cell \u001b[1;32mIn[77], line 1\u001b[0m\n\u001b[1;32m----> 1\u001b[0m \u001b[43mmyRect\u001b[49m\u001b[38;5;241;43m.\u001b[39;49m\u001b[43mfindArea\u001b[49m\u001b[43m(\u001b[49m\u001b[43m)\u001b[49m\n",
      "\u001b[1;31mTypeError\u001b[0m: Rectangle.findArea() takes 0 positional arguments but 1 was given"
     ]
    }
   ],
   "source": [
    "myRect.findArea()"
   ]
  },
  {
   "cell_type": "code",
   "execution_count": 68,
   "id": "46b49fb7",
   "metadata": {},
   "outputs": [
    {
     "data": {
      "text/plain": [
       "2"
      ]
     },
     "execution_count": 68,
     "metadata": {},
     "output_type": "execute_result"
    }
   ],
   "source": [
    "myRect.size\n"
   ]
  },
  {
   "cell_type": "code",
   "execution_count": 79,
   "id": "2db10f86",
   "metadata": {},
   "outputs": [],
   "source": [
    "class Student:\n",
    "    def __init__(self, grade):\n",
    "        self.grade = grade\n",
    "    \n",
    "    def calcGrade(self):\n",
    "        if 91 <= self.grade <= 100: return 'A1'\n",
    "        elif 81 <= self.grade <= 90: return 'A2'\n",
    "        elif 71 <= self.grade <= 80: return 'B1'\n",
    "        elif 61 <= self.grade <= 70: return 'B2'\n",
    "        elif 51 <= self.grade <= 60: return 'C1'\n",
    "        elif 41 <= self.grade <= 50: return 'C2'\n",
    "        elif 31 <= self.grade <= 40: return 'D'\n",
    "        elif 21 <= self.grade <= 30: return 'E1'\n",
    "        elif 11 <= self.grade <= 20: return 'E2'"
   ]
  },
  {
   "cell_type": "code",
   "execution_count": 81,
   "id": "1760755f",
   "metadata": {},
   "outputs": [
    {
     "data": {
      "text/plain": [
       "'C1'"
      ]
     },
     "execution_count": 81,
     "metadata": {},
     "output_type": "execute_result"
    }
   ],
   "source": [
    "karl = Student(52)\n",
    "karl.calcGrade()"
   ]
  },
  {
   "cell_type": "code",
   "execution_count": 1,
   "id": "5a6f699a",
   "metadata": {},
   "outputs": [],
   "source": [
    "#OOP Python"
   ]
  },
  {
   "cell_type": "code",
   "execution_count": 8,
   "id": "099b831c",
   "metadata": {},
   "outputs": [],
   "source": [
    "class Student:\n",
    "    school_name = 'PLM'\n",
    "    def __init__(self, name, year):\n",
    "        self.name = name\n",
    "        self.year = year\n",
    "    def sayName(self):\n",
    "        print(f'Hi, my name is {self.name}')"
   ]
  },
  {
   "cell_type": "code",
   "execution_count": 9,
   "id": "056572ae",
   "metadata": {},
   "outputs": [],
   "source": [
    "karl = Student('karl', 4)"
   ]
  },
  {
   "cell_type": "code",
   "execution_count": 10,
   "id": "54df93ed",
   "metadata": {},
   "outputs": [
    {
     "name": "stdout",
     "output_type": "stream",
     "text": [
      "Hi, my name is karl\n"
     ]
    }
   ],
   "source": [
    "karl.sayName()"
   ]
  },
  {
   "cell_type": "code",
   "execution_count": 11,
   "id": "b32365a4",
   "metadata": {},
   "outputs": [
    {
     "name": "stdout",
     "output_type": "stream",
     "text": [
      "PLM\n"
     ]
    }
   ],
   "source": [
    "print(karl.school_name)"
   ]
  },
  {
   "cell_type": "code",
   "execution_count": 12,
   "id": "c749cef2",
   "metadata": {},
   "outputs": [],
   "source": [
    "def getDocString():\n",
    "    \"\"\"This print Hello\"\"\"\n",
    "    print('hello')"
   ]
  },
  {
   "cell_type": "code",
   "execution_count": 13,
   "id": "89f51df0",
   "metadata": {},
   "outputs": [
    {
     "name": "stdout",
     "output_type": "stream",
     "text": [
      "This print Hello\n"
     ]
    }
   ],
   "source": [
    "print(getDocString.__doc__)"
   ]
  },
  {
   "cell_type": "code",
   "execution_count": 14,
   "id": "c075716a",
   "metadata": {},
   "outputs": [
    {
     "name": "stdout",
     "output_type": "stream",
     "text": [
      "print(value, ..., sep=' ', end='\\n', file=sys.stdout, flush=False)\n",
      "\n",
      "Prints the values to a stream, or to sys.stdout by default.\n",
      "Optional keyword arguments:\n",
      "file:  a file-like object (stream); defaults to the current sys.stdout.\n",
      "sep:   string inserted between values, default a space.\n",
      "end:   string appended after the last value, default a newline.\n",
      "flush: whether to forcibly flush the stream.\n"
     ]
    }
   ],
   "source": [
    "print(print.__doc__)"
   ]
  },
  {
   "cell_type": "code",
   "execution_count": 25,
   "id": "24c7e06b",
   "metadata": {},
   "outputs": [],
   "source": [
    "class Faculty:\n",
    "    schoolName = 'PLM'\n",
    "    def __init__(self, name, age):\n",
    "        self.name = name\n",
    "        self.age = age\n",
    "    \n",
    "    def sayName(self):\n",
    "        print(self.name)\n",
    "        \n",
    "    "
   ]
  },
  {
   "cell_type": "code",
   "execution_count": 26,
   "id": "07220c7d",
   "metadata": {},
   "outputs": [],
   "source": [
    "syd = Faculty('syd', 20)"
   ]
  },
  {
   "cell_type": "code",
   "execution_count": 27,
   "id": "f1f9a54d",
   "metadata": {},
   "outputs": [
    {
     "name": "stdout",
     "output_type": "stream",
     "text": [
      "syd\n"
     ]
    }
   ],
   "source": [
    "syd.sayName()"
   ]
  },
  {
   "cell_type": "code",
   "execution_count": 30,
   "id": "ff291465",
   "metadata": {},
   "outputs": [],
   "source": [
    "class Sample():\n",
    "    pass\n",
    "\n",
    "x = Sample()"
   ]
  },
  {
   "cell_type": "code",
   "execution_count": 31,
   "id": "2c8e3d27",
   "metadata": {},
   "outputs": [
    {
     "name": "stdout",
     "output_type": "stream",
     "text": [
      "<class '__main__.Sample'>\n"
     ]
    }
   ],
   "source": [
    "print(type(x))"
   ]
  },
  {
   "cell_type": "code",
   "execution_count": 54,
   "id": "a3e42c63",
   "metadata": {},
   "outputs": [],
   "source": [
    "class Car:\n",
    "        \n",
    "    def displayInfo(self):\n",
    "        print('I am a car!')"
   ]
  },
  {
   "cell_type": "code",
   "execution_count": 55,
   "id": "02406662",
   "metadata": {},
   "outputs": [],
   "source": [
    "car = Car()\n"
   ]
  },
  {
   "cell_type": "raw",
   "id": "baa0d5db",
   "metadata": {},
   "source": [
    "car.displayInfo()"
   ]
  },
  {
   "cell_type": "code",
   "execution_count": 56,
   "id": "61be117a",
   "metadata": {},
   "outputs": [
    {
     "name": "stdout",
     "output_type": "stream",
     "text": [
      "I am a car!\n"
     ]
    }
   ],
   "source": [
    "car.displayInfo()"
   ]
  },
  {
   "cell_type": "code",
   "execution_count": 57,
   "id": "95144c2a",
   "metadata": {},
   "outputs": [],
   "source": [
    "class Motor(Car):\n",
    "    def __init__(self):\n",
    "        super().__init__()\n",
    "    "
   ]
  },
  {
   "cell_type": "code",
   "execution_count": 58,
   "id": "df75daf8",
   "metadata": {},
   "outputs": [],
   "source": [
    "motor = Motor()"
   ]
  },
  {
   "cell_type": "code",
   "execution_count": 59,
   "id": "365328f8",
   "metadata": {},
   "outputs": [
    {
     "name": "stdout",
     "output_type": "stream",
     "text": [
      "I am a car!\n"
     ]
    }
   ],
   "source": [
    "motor.displayInfo()"
   ]
  },
  {
   "cell_type": "code",
   "execution_count": 1,
   "id": "9647e8c5",
   "metadata": {},
   "outputs": [],
   "source": [
    "from collections import Counter"
   ]
  },
  {
   "cell_type": "code",
   "execution_count": 2,
   "id": "1b5fb70e",
   "metadata": {},
   "outputs": [],
   "source": [
    "lst = [1,1,2,3,5,5,5,5,6,7,3,4,6,2,2,3,5,1]"
   ]
  },
  {
   "cell_type": "code",
   "execution_count": 3,
   "id": "7a270c22",
   "metadata": {},
   "outputs": [
    {
     "data": {
      "text/plain": [
       "Counter({5: 5, 1: 3, 2: 3, 3: 3, 6: 2, 7: 1, 4: 1})"
      ]
     },
     "execution_count": 3,
     "metadata": {},
     "output_type": "execute_result"
    }
   ],
   "source": [
    "Counter(lst)"
   ]
  },
  {
   "cell_type": "code",
   "execution_count": 4,
   "id": "5066ed8b",
   "metadata": {},
   "outputs": [],
   "source": [
    "c = Counter(lst)"
   ]
  },
  {
   "cell_type": "code",
   "execution_count": 5,
   "id": "7b0be8ce",
   "metadata": {},
   "outputs": [
    {
     "data": {
      "text/plain": [
       "[(5, 5), (1, 3)]"
      ]
     },
     "execution_count": 5,
     "metadata": {},
     "output_type": "execute_result"
    }
   ],
   "source": [
    "c.most_common(2)"
   ]
  },
  {
   "cell_type": "code",
   "execution_count": 6,
   "id": "cf182c6b",
   "metadata": {},
   "outputs": [
    {
     "data": {
      "text/plain": [
       "dict_values([3, 3, 3, 5, 2, 1, 1])"
      ]
     },
     "execution_count": 6,
     "metadata": {},
     "output_type": "execute_result"
    }
   ],
   "source": [
    "c.values()"
   ]
  },
  {
   "cell_type": "code",
   "execution_count": 7,
   "id": "9c6994e5",
   "metadata": {},
   "outputs": [
    {
     "data": {
      "text/plain": [
       "18"
      ]
     },
     "execution_count": 7,
     "metadata": {},
     "output_type": "execute_result"
    }
   ],
   "source": [
    "sum(c.values())"
   ]
  },
  {
   "cell_type": "code",
   "execution_count": 8,
   "id": "b110db20",
   "metadata": {},
   "outputs": [
    {
     "data": {
      "text/plain": [
       "[1, 2, 3, 5, 6, 7, 4]"
      ]
     },
     "execution_count": 8,
     "metadata": {},
     "output_type": "execute_result"
    }
   ],
   "source": [
    "list(c)"
   ]
  },
  {
   "cell_type": "code",
   "execution_count": 9,
   "id": "e162d673",
   "metadata": {},
   "outputs": [
    {
     "data": {
      "text/plain": [
       "Counter({5: 5, 1: 3, 2: 3, 3: 3, 6: 2, 7: 1, 4: 1})"
      ]
     },
     "execution_count": 9,
     "metadata": {},
     "output_type": "execute_result"
    }
   ],
   "source": [
    "c"
   ]
  },
  {
   "cell_type": "code",
   "execution_count": 10,
   "id": "7ff85aad",
   "metadata": {},
   "outputs": [
    {
     "data": {
      "text/plain": [
       "{1, 2, 3, 4, 5, 6, 7}"
      ]
     },
     "execution_count": 10,
     "metadata": {},
     "output_type": "execute_result"
    }
   ],
   "source": [
    "set(c)"
   ]
  },
  {
   "cell_type": "code",
   "execution_count": 1,
   "id": "4f7a3498",
   "metadata": {},
   "outputs": [
    {
     "data": {
      "text/plain": [
       "Counter({'the': 6,\n",
       "         'to': 4,\n",
       "         'you': 3,\n",
       "         'element': 3,\n",
       "         'need': 2,\n",
       "         'for': 2,\n",
       "         'a': 2,\n",
       "         'wanted': 2,\n",
       "         'which': 2,\n",
       "         'different': 2,\n",
       "         'and': 2,\n",
       "         'age.': 2,\n",
       "         'is': 2,\n",
       "         'could': 2,\n",
       "         'be': 2,\n",
       "         'To': 1,\n",
       "         'understand': 1,\n",
       "         'creating': 1,\n",
       "         'class': 1,\n",
       "         'let': 1,\n",
       "         'us': 1,\n",
       "         'consider': 1,\n",
       "         'an': 1,\n",
       "         'example:': 1,\n",
       "         'Let': 1,\n",
       "         'uss': 1,\n",
       "         'say': 1,\n",
       "         'that': 1,\n",
       "         'track': 1,\n",
       "         'number': 1,\n",
       "         'of': 1,\n",
       "         'dogs': 1,\n",
       "         'may': 1,\n",
       "         'have': 1,\n",
       "         'attributes': 1,\n",
       "         'like': 1,\n",
       "         'breed,': 1,\n",
       "         'If': 1,\n",
       "         'list': 1,\n",
       "         'used,': 1,\n",
       "         'first': 1,\n",
       "         'dog’s': 1,\n",
       "         'breed': 1,\n",
       "         'while': 1,\n",
       "         'second': 1,\n",
       "         'represent': 1,\n",
       "         'its': 1,\n",
       "         'Let’s': 1,\n",
       "         'suppose': 1,\n",
       "         'there': 1,\n",
       "         'are': 1,\n",
       "         '100': 1,\n",
       "         'dogs,': 1,\n",
       "         'then': 1,\n",
       "         'how': 1,\n",
       "         'would': 1,\n",
       "         'know': 1,\n",
       "         'supposed': 1,\n",
       "         'which?': 1,\n",
       "         'What': 1,\n",
       "         'if': 1,\n",
       "         'add': 1,\n",
       "         'other': 1,\n",
       "         'properties': 1,\n",
       "         'these': 1,\n",
       "         'dogs?': 1,\n",
       "         'This': 1,\n",
       "         'lacks': 1,\n",
       "         'organization': 1,\n",
       "         'it’s': 1,\n",
       "         'exact': 1,\n",
       "         'classes.': 1})"
      ]
     },
     "execution_count": 1,
     "metadata": {},
     "output_type": "execute_result"
    }
   ],
   "source": [
    "myString = \"To understand the need for creating a class let us consider an example: Let uss say that you wanted to track the number of dogs which may have different attributes like breed, and age. If a list is used, the first element could be the dog’s breed while the second element could represent its age. Let’s suppose there are 100 different dogs, then how would you know which element is supposed to be which? What if you wanted to add other properties to these dogs? This lacks organization and it’s the exact need for classes.\"\n",
    "\n",
    "\n",
    "Counter(myString.split())"
   ]
  },
  {
   "cell_type": "code",
   "execution_count": null,
   "id": "55692fb1",
   "metadata": {},
   "outputs": [],
   "source": []
  },
  {
   "cell_type": "code",
   "execution_count": null,
   "id": "90eda612",
   "metadata": {},
   "outputs": [],
   "source": []
  }
 ],
 "metadata": {
  "kernelspec": {
   "display_name": "Python 3 (ipykernel)",
   "language": "python",
   "name": "python3"
  },
  "language_info": {
   "codemirror_mode": {
    "name": "ipython",
    "version": 3
   },
   "file_extension": ".py",
   "mimetype": "text/x-python",
   "name": "python",
   "nbconvert_exporter": "python",
   "pygments_lexer": "ipython3",
   "version": "3.10.5"
  }
 },
 "nbformat": 4,
 "nbformat_minor": 5
}
