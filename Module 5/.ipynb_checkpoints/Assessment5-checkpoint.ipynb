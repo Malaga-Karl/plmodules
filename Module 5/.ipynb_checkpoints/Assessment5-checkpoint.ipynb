{
 "cells": [
  {
   "cell_type": "code",
   "execution_count": 1,
   "id": "14579ffc",
   "metadata": {},
   "outputs": [],
   "source": [
    "# Problem 1\n",
    "# Illustrated below is a program skeletal form of class UpaSaWork\n",
    "# Fill in the class methods to accept data needed in tuples format and return the Netpay of the employee\n",
    "# with his/her name as part of the final output"
   ]
  },
  {
   "cell_type": "code",
   "execution_count": 7,
   "id": "38e443d7",
   "metadata": {},
   "outputs": [
    {
     "name": "stdout",
     "output_type": "stream",
     "text": [
      "Nomer's salary is = : 2900\n"
     ]
    }
   ],
   "source": [
    "class UpaSaWork:\n",
    "    def __init__(self, empName, dailyRate, bilangNgAraw, bale):\n",
    "        self.empName = empName\n",
    "        self.dailyRate = dailyRate\n",
    "        self.bilangNgAraw = bilangNgAraw\n",
    "        self.bale = bale\n",
    "    \n",
    "    def sweldo(self):\n",
    "        print (f'{self.empName}\\'s salary is = : ' + str(self.dailyRate*self.bilangNgAraw-self.bale))\n",
    "\n",
    "tao1 = UpaSaWork('Nomer', 1000, 3, 100)\n",
    "tao1.sweldo()"
   ]
  },
  {
   "cell_type": "code",
   "execution_count": 7,
   "id": "c226825f",
   "metadata": {},
   "outputs": [
    {
     "data": {
      "text/plain": [
       "414.69023027385265"
      ]
     },
     "execution_count": 7,
     "metadata": {},
     "output_type": "execute_result"
    }
   ],
   "source": [
    "# Problem 2\n",
    "# Fill in the Barrel classm methods to accept the taas and diaHalf of the barrel\n",
    "# then return tje kabuuangSukat and sukatNgLawak of the barrel\n",
    "import math\n",
    "\n",
    "class Barrel:\n",
    "    def __init__(self, taas=1, diaHalf=1):\n",
    "        self.taas = taas\n",
    "        self.diaHalf = diaHalf\n",
    "    def kabuuangSukat(self):\n",
    "        return math.pi*pow(self.diaHalf,2)*self.taas\n",
    "    def sukatNgLawak(self):\n",
    "        return (2*math.pi*self.diaHalf*self.taas)+(2*math.pi*pow(self.diaHalf,2))\n",
    "    \n",
    "c = Barrel(5,6)\n",
    "c.kabuuangSukat()\n",
    "c.sukatNgLawak()"
   ]
  },
  {
   "cell_type": "code",
   "execution_count": null,
   "id": "3c9b2d6b",
   "metadata": {},
   "outputs": [],
   "source": []
  }
 ],
 "metadata": {
  "kernelspec": {
   "display_name": "Python 3 (ipykernel)",
   "language": "python",
   "name": "python3"
  },
  "language_info": {
   "codemirror_mode": {
    "name": "ipython",
    "version": 3
   },
   "file_extension": ".py",
   "mimetype": "text/x-python",
   "name": "python",
   "nbconvert_exporter": "python",
   "pygments_lexer": "ipython3",
   "version": "3.10.5"
  }
 },
 "nbformat": 4,
 "nbformat_minor": 5
}
