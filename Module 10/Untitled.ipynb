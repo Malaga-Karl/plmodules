{
 "cells": [
  {
   "cell_type": "code",
   "execution_count": 15,
   "id": "699ccb60",
   "metadata": {},
   "outputs": [],
   "source": [
    "import tkinter as tk\n",
    "\n",
    "# Main window (acting as the dialog box)\n",
    "root = tk.Tk()\n",
    "root.geometry(\"400x200\")\n",
    "root.title(\"IT 2180 Window\")\n",
    "\n",
    "label = tk.Label(root, text=\"HELLO CLASS IT 2180 TO THE GUI WORLD\")\n",
    "label.pack(padx=10, pady=10)\n",
    "\n",
    "# Start the Tkinter event loop\n",
    "root.mainloop()"
   ]
  },
  {
   "cell_type": "code",
   "execution_count": 16,
   "id": "58e5b446",
   "metadata": {},
   "outputs": [],
   "source": [
    "import tkinter as tk\n",
    "\n",
    "# Main window (acting as the dialog box)\n",
    "root = tk.Tk()\n",
    "root.geometry(\"400x200\")\n",
    "root.title(\"IT 2180 Window\")\n",
    "\n",
    "label = tk.Label(root, text=\"HELLO CLASS IT 2180 TO THE GUI WORLD\")\n",
    "label.pack(padx=10, pady=10, expand=True)\n",
    "\n",
    "# Start the Tkinter event loop\n",
    "root.mainloop()"
   ]
  },
  {
   "cell_type": "code",
   "execution_count": 21,
   "id": "fedb7081",
   "metadata": {},
   "outputs": [
    {
     "name": "stdout",
     "output_type": "stream",
     "text": [
      "Pamantasan ng Lungsod ng Maynila\n",
      "Pamantasan ng Lungsod ng Maynila\n",
      "Pamantasan ng Lungsod ng Maynila\n",
      "Pamantasan ng Lungsod ng Maynila\n"
     ]
    }
   ],
   "source": [
    "import tkinter as tk\n",
    "\n",
    "def print_label_text():\n",
    "    print(\"Pamantasan ng Lungsod ng Maynila\")\n",
    "\n",
    "# Main window (acting as the dialog box)\n",
    "root = tk.Tk()\n",
    "root.geometry(\"400x200\")\n",
    "root.title(\"Button\")\n",
    "\n",
    "# Button to print label text\n",
    "button = tk.Button(root, text=\"Print to Jupyter\", command=print_label_text, bg='blue', fg = 'white')\n",
    "button.pack(pady=20, expand=True)\n",
    "\n",
    "# Start the Tkinter event loop\n",
    "root.mainloop()"
   ]
  },
  {
   "cell_type": "code",
   "execution_count": null,
   "id": "8b3636bf",
   "metadata": {},
   "outputs": [],
   "source": []
  }
 ],
 "metadata": {
  "kernelspec": {
   "display_name": "Python 3 (ipykernel)",
   "language": "python",
   "name": "python3"
  },
  "language_info": {
   "codemirror_mode": {
    "name": "ipython",
    "version": 3
   },
   "file_extension": ".py",
   "mimetype": "text/x-python",
   "name": "python",
   "nbconvert_exporter": "python",
   "pygments_lexer": "ipython3",
   "version": "3.10.5"
  }
 },
 "nbformat": 4,
 "nbformat_minor": 5
}
