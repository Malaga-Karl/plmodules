{
 "cells": [
  {
   "cell_type": "code",
   "execution_count": 2,
   "id": "18f4f3b2",
   "metadata": {},
   "outputs": [],
   "source": [
    "#problem 1. In files"
   ]
  },
  {
   "cell_type": "code",
   "execution_count": null,
   "id": "0660006b",
   "metadata": {},
   "outputs": [],
   "source": [
    "# Problem 2\n",
    "# using trry and except blocks, address the exception thrown by the code below"
   ]
  },
  {
   "cell_type": "code",
   "execution_count": 2,
   "id": "7d0e8fb2",
   "metadata": {},
   "outputs": [
    {
     "name": "stdout",
     "output_type": "stream",
     "text": [
      "Type Error: you cannot add a string to an integer\n"
     ]
    }
   ],
   "source": [
    "try:\n",
    "    for x in ['1','2','3']:\n",
    "        print(5*4+x)\n",
    "except TypeError:\n",
    "    print(\"Type Error: you cannot add a string to an integer\")"
   ]
  },
  {
   "cell_type": "code",
   "execution_count": 3,
   "id": "0c7b4e40",
   "metadata": {},
   "outputs": [
    {
     "name": "stdout",
     "output_type": "stream",
     "text": [
      "You cannot divide by zero\n",
      "I got it!\n"
     ]
    }
   ],
   "source": [
    "# Problem 3\n",
    "# Using try and except blocks, resolve the exception thrown by the code below, then print \"i  got it\" by using finally block\n",
    "\n",
    "x = 25\n",
    "y = 0\n",
    "\n",
    "try:\n",
    "    z = x/y\n",
    "except ZeroDivisionError:\n",
    "    print(\"You cannot divide by zero\")\n",
    "finally:\n",
    "    print(\"I got it!\")\n",
    "    "
   ]
  },
  {
   "cell_type": "code",
   "execution_count": null,
   "id": "05b3c2fe",
   "metadata": {},
   "outputs": [
    {
     "name": "stdout",
     "output_type": "stream",
     "text": [
      "input an integer: 4\n",
      "The square root of 4 is 2.0\n",
      "input an integer: r\n",
      "An error occured! Please try again!\n",
      "input an integer: 3\n",
      "The square root of 3 is 1.7320508075688772\n"
     ]
    }
   ],
   "source": [
    "# Problem 4\n",
    "# using a while loop wwih a trym except, else block to check for an incorrect inputs\n",
    "# Futrthermore, write a function that asks for an integer and dispaly the square root of it\n",
    "import math\n",
    "def ask():\n",
    "    while True:\n",
    "        try:\n",
    "            n = int(input(\"input an integer: \"))\n",
    "            print(f'The square root of {n} is {math.sqrt(n)}')\n",
    "        except:\n",
    "            print('An error occured! Please try again!')\n",
    "\n",
    "ask()"
   ]
  },
  {
   "cell_type": "code",
   "execution_count": null,
   "id": "370274d8",
   "metadata": {},
   "outputs": [],
   "source": []
  }
 ],
 "metadata": {
  "kernelspec": {
   "display_name": "Python 3 (ipykernel)",
   "language": "python",
   "name": "python3"
  },
  "language_info": {
   "codemirror_mode": {
    "name": "ipython",
    "version": 3
   },
   "file_extension": ".py",
   "mimetype": "text/x-python",
   "name": "python",
   "nbconvert_exporter": "python",
   "pygments_lexer": "ipython3",
   "version": "3.10.5"
  }
 },
 "nbformat": 4,
 "nbformat_minor": 5
}
