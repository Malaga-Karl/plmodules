{
 "cells": [
  {
   "cell_type": "code",
   "execution_count": 2,
   "id": "d220c8c5",
   "metadata": {},
   "outputs": [
    {
     "data": {
      "text/plain": [
       "33.510321638291124"
      ]
     },
     "execution_count": 2,
     "metadata": {},
     "output_type": "execute_result"
    }
   ],
   "source": [
    "import math\n",
    "#1. Write a function that computes the volume of a sphere given its radius\n",
    "\n",
    "def vol(rad):\n",
    "    return (4/3)*math.pi*pow(rad,3)\n",
    "\n",
    "vol(2)"
   ]
  },
  {
   "cell_type": "code",
   "execution_count": 3,
   "id": "a1d51aac",
   "metadata": {},
   "outputs": [
    {
     "name": "stdout",
     "output_type": "stream",
     "text": [
      "5 is in the range between 4 and 9\n"
     ]
    }
   ],
   "source": [
    "#2 Write a function that checks whether a number is in a given range (inclusive of high and low)\n",
    "def ran_check(num, low, high):\n",
    "    print(f'{num} is in the range between {low} and {high}') if low <= num <= high else print(f'{num} is NOT in the range between {low} and {high}')\n",
    "    return \n",
    "\n",
    "ran_check(5,4,9)    "
   ]
  },
  {
   "cell_type": "code",
   "execution_count": 4,
   "id": "8560fffc",
   "metadata": {},
   "outputs": [
    {
     "name": "stdout",
     "output_type": "stream",
     "text": [
      "3 is NOT in the range between 6 and 9\n"
     ]
    }
   ],
   "source": [
    "ran_check(3,6,9)"
   ]
  },
  {
   "cell_type": "code",
   "execution_count": 9,
   "id": "18e1baa5",
   "metadata": {},
   "outputs": [
    {
     "data": {
      "text/plain": [
       "'Uppercase: 5 Lowercase: 22'"
      ]
     },
     "execution_count": 9,
     "metadata": {},
     "output_type": "execute_result"
    }
   ],
   "source": [
    "#3. Write a pythonfunction that accepts a string and calculates the number of upper case letters and lowercase letters\n",
    "def up_low(s):\n",
    "    up = 0\n",
    "    low = 0\n",
    "    for char in s:\n",
    "        if char.isupper(): up += 1\n",
    "        elif char.islower(): low +=1\n",
    "        else: pass\n",
    "    return f'Uppercase: {up} Lowercase: {low}'\n",
    "\n",
    "up_low('My name is Karl Benedict K. Malaga')"
   ]
  },
  {
   "cell_type": "code",
   "execution_count": 12,
   "id": "df9f262e",
   "metadata": {},
   "outputs": [
    {
     "data": {
      "text/plain": [
       "[1, 2, 3, 4, 5]"
      ]
     },
     "execution_count": 12,
     "metadata": {},
     "output_type": "execute_result"
    }
   ],
   "source": [
    "#4 Write a python function that takes a list and returns a new list with unique elements of the first list\n",
    "def unique_list(lst):\n",
    "    return list(set(lst))\n",
    "\n",
    "ulist = [1,1,1,1,2,2,2,3,3,4,5,5,5]\n",
    "unique_list(ulist)"
   ]
  },
  {
   "cell_type": "code",
   "execution_count": 13,
   "id": "b9a90c23",
   "metadata": {},
   "outputs": [
    {
     "data": {
      "text/plain": [
       "-24"
      ]
     },
     "execution_count": 13,
     "metadata": {},
     "output_type": "execute_result"
    }
   ],
   "source": [
    "#5 Write a python function to multiply all the numbers in a list\n",
    "def multiply(numbers):\n",
    "    prod = 1\n",
    "    for num in numbers:\n",
    "        prod *= num\n",
    "    return prod\n",
    "\n",
    "multiply([1,2,3,-4])"
   ]
  },
  {
   "cell_type": "code",
   "execution_count": 19,
   "id": "4f4d0808",
   "metadata": {},
   "outputs": [
    {
     "data": {
      "text/plain": [
       "True"
      ]
     },
     "execution_count": 19,
     "metadata": {},
     "output_type": "execute_result"
    }
   ],
   "source": [
    "#6 Write a python function that checks whether a word or phrase palindrome or not\n",
    "def palindrome(s):\n",
    "    if len(s) % 2 == 0: return s[:len(s)//2] == s[len(s)//2:][::-1]\n",
    "    else: return s[:len(s)//2] == s[len(s)//2+2:][::-1]\n",
    "    \n",
    "palindrome('helleh')"
   ]
  },
  {
   "cell_type": "code",
   "execution_count": 25,
   "id": "cfd688d7",
   "metadata": {},
   "outputs": [
    {
     "data": {
      "text/plain": [
       "True"
      ]
     },
     "execution_count": 25,
     "metadata": {},
     "output_type": "execute_result"
    }
   ],
   "source": [
    "# 7 Write a python function to check whether a string a pangram or not\n",
    "#(assuming the tring passed in does not have any punctuation)\n",
    "\n",
    "import string\n",
    "\n",
    "def ispangram(str1, alphabet=string.ascii_lowercase):\n",
    "    str1 = sorted(set(str1.lower().replace(string.punctuation, '')))\n",
    "    str2 = ''.join(str1).replace(' ','')\n",
    "    return str2 == alphabet\n",
    "    \n",
    "\n",
    "ispangram('the quick brown fox jumps over the lazy dog')"
   ]
  },
  {
   "cell_type": "code",
   "execution_count": null,
   "id": "41c18487",
   "metadata": {},
   "outputs": [],
   "source": []
  }
 ],
 "metadata": {
  "kernelspec": {
   "display_name": "Python 3 (ipykernel)",
   "language": "python",
   "name": "python3"
  },
  "language_info": {
   "codemirror_mode": {
    "name": "ipython",
    "version": 3
   },
   "file_extension": ".py",
   "mimetype": "text/x-python",
   "name": "python",
   "nbconvert_exporter": "python",
   "pygments_lexer": "ipython3",
   "version": "3.10.5"
  }
 },
 "nbformat": 4,
 "nbformat_minor": 5
}
