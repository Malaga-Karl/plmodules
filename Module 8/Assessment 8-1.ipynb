{
 "cells": [
  {
   "cell_type": "code",
   "execution_count": 10,
   "id": "df5cf8e0",
   "metadata": {},
   "outputs": [
    {
     "data": {
      "text/plain": [
       "Counter({'the': 6,\n",
       "         'to': 4,\n",
       "         'you': 3,\n",
       "         'element': 3,\n",
       "         'need': 2,\n",
       "         'for': 2,\n",
       "         'a': 2,\n",
       "         'wanted': 2,\n",
       "         'which': 2,\n",
       "         'different': 2,\n",
       "         'and': 2,\n",
       "         'age.': 2,\n",
       "         'is': 2,\n",
       "         'could': 2,\n",
       "         'be': 2,\n",
       "         'To': 1,\n",
       "         'understand': 1,\n",
       "         'creating': 1,\n",
       "         'class': 1,\n",
       "         'let': 1,\n",
       "         'us': 1,\n",
       "         'consider': 1,\n",
       "         'an': 1,\n",
       "         'example:': 1,\n",
       "         'Let': 1,\n",
       "         'uss': 1,\n",
       "         'say': 1,\n",
       "         'that': 1,\n",
       "         'track': 1,\n",
       "         'number': 1,\n",
       "         'of': 1,\n",
       "         'dogs': 1,\n",
       "         'may': 1,\n",
       "         'have': 1,\n",
       "         'attributes': 1,\n",
       "         'like': 1,\n",
       "         'breed,': 1,\n",
       "         'If': 1,\n",
       "         'list': 1,\n",
       "         'used,': 1,\n",
       "         'first': 1,\n",
       "         'dog’s': 1,\n",
       "         'breed': 1,\n",
       "         'while': 1,\n",
       "         'second': 1,\n",
       "         'represent': 1,\n",
       "         'its': 1,\n",
       "         'Let’s': 1,\n",
       "         'suppose': 1,\n",
       "         'there': 1,\n",
       "         'are': 1,\n",
       "         '100': 1,\n",
       "         'dogs,': 1,\n",
       "         'then': 1,\n",
       "         'how': 1,\n",
       "         'would': 1,\n",
       "         'know': 1,\n",
       "         'supposed': 1,\n",
       "         'which?': 1,\n",
       "         'What': 1,\n",
       "         'if': 1,\n",
       "         'add': 1,\n",
       "         'other': 1,\n",
       "         'properties': 1,\n",
       "         'these': 1,\n",
       "         'dogs?': 1,\n",
       "         'This': 1,\n",
       "         'lacks': 1,\n",
       "         'organization': 1,\n",
       "         'it’s': 1,\n",
       "         'exact': 1,\n",
       "         'classes.': 1})"
      ]
     },
     "execution_count": 10,
     "metadata": {},
     "output_type": "execute_result"
    }
   ],
   "source": [
    "#import Counter from collections\n",
    "from collections import Counter\n",
    "\n",
    "myString = \"To understand the need for creating a class let us consider an example: Let uss say that you wanted to track the number of dogs which may have different attributes like breed, and age. If a list is used, the first element could be the dog’s breed while the second element could represent its age. Let’s suppose there are 100 different dogs, then how would you know which element is supposed to be which? What if you wanted to add other properties to these dogs? This lacks organization and it’s the exact need for classes.\" \n",
    "\n",
    "#split the string by words\n",
    "words = myString.split()\n",
    "\n",
    "#get and display the counts for each words\n",
    "c = Counter(words)\n",
    "c"
   ]
  },
  {
   "cell_type": "code",
   "execution_count": 9,
   "id": "a8870c97",
   "metadata": {},
   "outputs": [
    {
     "name": "stdout",
     "output_type": "stream",
     "text": [
      "[('the', 6), ('to', 4), ('you', 3), ('element', 3), ('need', 2)]\n"
     ]
    }
   ],
   "source": [
    "#1. Display the number of the word occurrences and the first 5 topmost common words mentioned in myString.\n",
    "\n",
    "print(c.most_common(5))"
   ]
  },
  {
   "cell_type": "code",
   "execution_count": 13,
   "id": "30cc579a",
   "metadata": {},
   "outputs": [
    {
     "data": {
      "text/plain": [
       "95"
      ]
     },
     "execution_count": 13,
     "metadata": {},
     "output_type": "execute_result"
    }
   ],
   "source": [
    "#2. Display the total number of words in myString\n",
    "\n",
    "sum(c.values())"
   ]
  },
  {
   "cell_type": "code",
   "execution_count": 14,
   "id": "4d924ec4",
   "metadata": {},
   "outputs": [
    {
     "data": {
      "text/plain": [
       "Counter({'the': 6,\n",
       "         'to': 4,\n",
       "         'you': 3,\n",
       "         'element': 3,\n",
       "         'need': 2,\n",
       "         'for': 2,\n",
       "         'a': 2,\n",
       "         'wanted': 2,\n",
       "         'which': 2,\n",
       "         'different': 2,\n",
       "         'and': 2,\n",
       "         'age.': 2,\n",
       "         'is': 2,\n",
       "         'could': 2,\n",
       "         'be': 2,\n",
       "         'To': 1,\n",
       "         'understand': 1,\n",
       "         'creating': 1,\n",
       "         'class': 1,\n",
       "         'let': 1,\n",
       "         'us': 1,\n",
       "         'consider': 1,\n",
       "         'an': 1,\n",
       "         'example:': 1,\n",
       "         'Let': 1,\n",
       "         'uss': 1,\n",
       "         'say': 1,\n",
       "         'that': 1,\n",
       "         'track': 1,\n",
       "         'number': 1,\n",
       "         'of': 1,\n",
       "         'dogs': 1,\n",
       "         'may': 1,\n",
       "         'have': 1,\n",
       "         'attributes': 1,\n",
       "         'like': 1,\n",
       "         'breed,': 1,\n",
       "         'If': 1,\n",
       "         'list': 1,\n",
       "         'used,': 1,\n",
       "         'first': 1,\n",
       "         'dog’s': 1,\n",
       "         'breed': 1,\n",
       "         'while': 1,\n",
       "         'second': 1,\n",
       "         'represent': 1,\n",
       "         'its': 1,\n",
       "         'Let’s': 1,\n",
       "         'suppose': 1,\n",
       "         'there': 1,\n",
       "         'are': 1,\n",
       "         '100': 1,\n",
       "         'dogs,': 1,\n",
       "         'then': 1,\n",
       "         'how': 1,\n",
       "         'would': 1,\n",
       "         'know': 1,\n",
       "         'supposed': 1,\n",
       "         'which?': 1,\n",
       "         'What': 1,\n",
       "         'if': 1,\n",
       "         'add': 1,\n",
       "         'other': 1,\n",
       "         'properties': 1,\n",
       "         'these': 1,\n",
       "         'dogs?': 1,\n",
       "         'This': 1,\n",
       "         'lacks': 1,\n",
       "         'organization': 1,\n",
       "         'it’s': 1,\n",
       "         'exact': 1,\n",
       "         'classes.': 1})"
      ]
     },
     "execution_count": 14,
     "metadata": {},
     "output_type": "execute_result"
    }
   ],
   "source": [
    "#3. Display all the items sets (keywords and values) of all words in myString\n",
    "c"
   ]
  },
  {
   "cell_type": "code",
   "execution_count": 15,
   "id": "ab40393d",
   "metadata": {},
   "outputs": [
    {
     "data": {
      "text/plain": [
       "6"
      ]
     },
     "execution_count": 15,
     "metadata": {},
     "output_type": "execute_result"
    }
   ],
   "source": [
    "#4 Display the count of a specific word from myString\n",
    "\n",
    "c['the']"
   ]
  },
  {
   "cell_type": "code",
   "execution_count": 20,
   "id": "9654570f",
   "metadata": {},
   "outputs": [
    {
     "name": "stdout",
     "output_type": "stream",
     "text": [
      "04:20:01\n",
      "hour: 4\n",
      "minute: 20\n",
      "second: 1\n",
      "microsecond: 0\n",
      "tzinfo: None\n"
     ]
    }
   ],
   "source": [
    "#5 Create a script in Python using your Jupyter Notebook and display the output needed\n",
    "\n",
    "import datetime\n",
    "\n",
    "t1 = datetime.time(4,20,1)\n",
    "t2 = datetime.time(6,20,1)\n",
    "\n",
    "print(t1)\n",
    "print(f'hour: {t1.hour}')\n",
    "print(f'minute: {t1.minute}')\n",
    "print(f'second: {t1.second}')\n",
    "print(f'microsecond: {t1.microsecond}')\n",
    "print(f'tzinfo: {t1.tzinfo}')"
   ]
  },
  {
   "cell_type": "code",
   "execution_count": 28,
   "id": "11adf576",
   "metadata": {},
   "outputs": [
    {
     "name": "stdout",
     "output_type": "stream",
     "text": [
      "Start time.  08:00:00\n",
      "End time.  12:00:00\n",
      "Time Difference.  4:00:00\n"
     ]
    }
   ],
   "source": [
    "#6 Using the combine method get the time difference of the time given below from the Start time until End time:\n",
    "\n",
    "#set Start time\n",
    "d1 = datetime.time(8,0,0)\n",
    "print('Start time. ', d1)\n",
    "\n",
    "#set End time\n",
    "d2 = datetime.time(12,0,0) \n",
    "print('End time. ', d2)\n",
    "\n",
    "# Convert time objects to datetime objects by combining with a specific date\n",
    "specific_date = datetime.datetime(2024, 1, 1)\n",
    "datetime_start = datetime.datetime.combine(specific_date, d1)\n",
    "datetime_end = datetime.datetime.combine(specific_date, d2)\n",
    "\n",
    "# Calculate the time difference\n",
    "time_difference = datetime_end - datetime_start\n",
    "print('Time Difference. ', time_difference)"
   ]
  },
  {
   "cell_type": "code",
   "execution_count": 5,
   "id": "81c283a5",
   "metadata": {},
   "outputs": [
    {
     "name": "stdout",
     "output_type": "stream",
     "text": [
      "Name: Karl, Position: President\n",
      "Name: Bert, Position: Vice President\n",
      "Enter code to cast your vote for Karl: 1\n",
      "Enter code to cast your vote for Bert: 2\n",
      "Votes for Karl: 1\n",
      "Votes for Bert: 2\n"
     ]
    },
    {
     "ename": "TypeError",
     "evalue": "'int' object is not iterable",
     "output_type": "error",
     "traceback": [
      "\u001b[1;31m---------------------------------------------------------------------------\u001b[0m",
      "\u001b[1;31mTypeError\u001b[0m                                 Traceback (most recent call last)",
      "Cell \u001b[1;32mIn[5], line 48\u001b[0m\n\u001b[0;32m     45\u001b[0m     \u001b[38;5;28mprint\u001b[39m(\u001b[38;5;124mf\u001b[39m\u001b[38;5;124m\"\u001b[39m\u001b[38;5;124mVotes for \u001b[39m\u001b[38;5;132;01m{\u001b[39;00mcandi\u001b[38;5;241m.\u001b[39mname\u001b[38;5;132;01m}\u001b[39;00m\u001b[38;5;124m: \u001b[39m\u001b[38;5;132;01m{\u001b[39;00mcandi\u001b[38;5;241m.\u001b[39mgetVotes()\u001b[38;5;132;01m}\u001b[39;00m\u001b[38;5;124m\"\u001b[39m)\n\u001b[0;32m     47\u001b[0m \u001b[38;5;66;03m# Count votes using Counter\u001b[39;00m\n\u001b[1;32m---> 48\u001b[0m vote_counts \u001b[38;5;241m=\u001b[39m \u001b[38;5;28mdict\u001b[39m(\u001b[43mCounter\u001b[49m\u001b[43m(\u001b[49m\u001b[43mCandidate\u001b[49m\u001b[38;5;241;43m.\u001b[39;49m\u001b[43mvotes\u001b[49m\u001b[43m)\u001b[49m)\n\u001b[0;32m     49\u001b[0m \u001b[38;5;28mprint\u001b[39m(\u001b[38;5;124m\"\u001b[39m\u001b[38;5;124mVote counts:\u001b[39m\u001b[38;5;124m\"\u001b[39m, vote_counts)\n",
      "File \u001b[1;32mC:\\Program Files\\Python310\\lib\\collections\\__init__.py:577\u001b[0m, in \u001b[0;36mCounter.__init__\u001b[1;34m(self, iterable, **kwds)\u001b[0m\n\u001b[0;32m    566\u001b[0m \u001b[38;5;250m\u001b[39m\u001b[38;5;124;03m'''Create a new, empty Counter object.  And if given, count elements\u001b[39;00m\n\u001b[0;32m    567\u001b[0m \u001b[38;5;124;03mfrom an input iterable.  Or, initialize the count from another mapping\u001b[39;00m\n\u001b[0;32m    568\u001b[0m \u001b[38;5;124;03mof elements to their counts.\u001b[39;00m\n\u001b[1;32m   (...)\u001b[0m\n\u001b[0;32m    574\u001b[0m \n\u001b[0;32m    575\u001b[0m \u001b[38;5;124;03m'''\u001b[39;00m\n\u001b[0;32m    576\u001b[0m \u001b[38;5;28msuper\u001b[39m()\u001b[38;5;241m.\u001b[39m\u001b[38;5;21m__init__\u001b[39m()\n\u001b[1;32m--> 577\u001b[0m \u001b[38;5;28mself\u001b[39m\u001b[38;5;241m.\u001b[39mupdate(iterable, \u001b[38;5;241m*\u001b[39m\u001b[38;5;241m*\u001b[39mkwds)\n",
      "File \u001b[1;32mC:\\Program Files\\Python310\\lib\\collections\\__init__.py:670\u001b[0m, in \u001b[0;36mCounter.update\u001b[1;34m(self, iterable, **kwds)\u001b[0m\n\u001b[0;32m    668\u001b[0m             \u001b[38;5;28msuper\u001b[39m()\u001b[38;5;241m.\u001b[39mupdate(iterable)\n\u001b[0;32m    669\u001b[0m     \u001b[38;5;28;01melse\u001b[39;00m:\n\u001b[1;32m--> 670\u001b[0m         \u001b[43m_count_elements\u001b[49m\u001b[43m(\u001b[49m\u001b[38;5;28;43mself\u001b[39;49m\u001b[43m,\u001b[49m\u001b[43m \u001b[49m\u001b[43miterable\u001b[49m\u001b[43m)\u001b[49m\n\u001b[0;32m    671\u001b[0m \u001b[38;5;28;01mif\u001b[39;00m kwds:\n\u001b[0;32m    672\u001b[0m     \u001b[38;5;28mself\u001b[39m\u001b[38;5;241m.\u001b[39mupdate(kwds)\n",
      "\u001b[1;31mTypeError\u001b[0m: 'int' object is not iterable"
     ]
    }
   ],
   "source": [
    "from collections import Counter\n",
    "\n",
    "class Candidate:\n",
    "    # Class attribute to record all votes of candidates\n",
    "    votes = 0\n",
    "\n",
    "    # Constructor/Initialization of class Candidate\n",
    "    def __init__(self, name, position):\n",
    "        self.name = name\n",
    "        self.position = position\n",
    "\n",
    "    # Method to set votes data\n",
    "    def setVotes(self, vote):\n",
    "        self.votes += vote\n",
    "\n",
    "    # Method to get votes data\n",
    "    def getVotes(self):\n",
    "        return self.votes\n",
    "\n",
    "    # Method for interface\n",
    "    def dispCandid(self):\n",
    "        print(f\"Name: {self.name}, Position: {self.position}\")\n",
    "\n",
    "# Predetermined candidates\n",
    "candidates_data = [\n",
    "    {\"name\": \"Karl\", \"position\": \"President\"},\n",
    "    {\"name\": \"Bert\", \"position\": \"Vice President\"},\n",
    "    # Add more candidates as needed\n",
    "]\n",
    "\n",
    "# Instantiate objects of Candidates with predetermined candidates\n",
    "candidates = [Candidate(data[\"name\"], data[\"position\"]) for data in candidates_data]\n",
    "\n",
    "# Display candidate information\n",
    "for candi in candidates:\n",
    "    candi.dispCandid()\n",
    "\n",
    "# Collect votes\n",
    "for candi in candidates:\n",
    "    voteCast = int(input(f\"Enter code to cast your vote for {candi.name}: \"))\n",
    "    candi.setVotes(voteCast)\n",
    "\n",
    "# Display votes\n",
    "for candi in candidates:\n",
    "    print(f\"Votes for {candi.name}: {candi.getVotes()}\")\n",
    "\n",
    "# Count votes using Counter\n",
    "vote_counts = dict(Counter(Candidate.votes))\n",
    "print(\"Vote counts:\", vote_counts)"
   ]
  },
  {
   "cell_type": "code",
   "execution_count": null,
   "id": "402de407",
   "metadata": {},
   "outputs": [],
   "source": []
  }
 ],
 "metadata": {
  "kernelspec": {
   "display_name": "Python 3 (ipykernel)",
   "language": "python",
   "name": "python3"
  },
  "language_info": {
   "codemirror_mode": {
    "name": "ipython",
    "version": 3
   },
   "file_extension": ".py",
   "mimetype": "text/x-python",
   "name": "python",
   "nbconvert_exporter": "python",
   "pygments_lexer": "ipython3",
   "version": "3.10.5"
  }
 },
 "nbformat": 4,
 "nbformat_minor": 5
}
